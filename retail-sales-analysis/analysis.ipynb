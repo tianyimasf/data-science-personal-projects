{
 "cells": [
  {
   "cell_type": "markdown",
   "id": "bfaffbcf-f6ed-4629-bd56-19befd5ab225",
   "metadata": {},
   "source": [
    "# About Dataset\n",
    "\n",
    "Welcome to the shopping world of Istanbul! Our dataset contains shopping information from 10 different shopping malls between 2021 and 2023. We have gathered data from various age groups and genders to provide a comprehensive view of shopping habits in Istanbul. The dataset includes essential information such as invoice numbers, customer IDs, age, gender, payment methods, product categories, quantity, price, order dates, and shopping mall locations. We hope that this dataset will serve as a valuable resource for researchers, data analysts, and machine learning enthusiasts who want to gain insights into shopping trends and patterns in Istanbul. Explore the dataset and discover the fascinating world of Istanbul shopping!\n",
    "\n",
    "**Columns**\n",
    "\n",
    "- invoice_no: Invoice number. Nominal. A combination of the letter 'I' and a 6-digit integer uniquely assigned to each operation.\n",
    "- customer_id: Customer number. Nominal. A combination of the letter 'C' and a 6-digit integer uniquely assigned to each operation.\n",
    "- gender: String variable of the customer's gender.\n",
    "- age: Positive Integer variable of the customers age.\n",
    "- category: String variable of the category of the purchased product.\n",
    "- quantity: The quantities of each product (item) per transaction. Numeric.\n",
    "- price: Unit price. Numeric. Product price per unit in Turkish Liras (TL).\n",
    "- payment_method: String variable of the payment method (cash, credit card or debit card) used for the transaction.\n",
    "- invoice_date: Invoice date. The day when a transaction was generated.\n",
    "- shopping_mall: String variable of the name of the shopping mall where the transaction was made."
   ]
  },
  {
   "cell_type": "code",
   "execution_count": null,
   "id": "a37f0086-89a4-4f50-aa8c-679e3fae5403",
   "metadata": {},
   "outputs": [],
   "source": []
  }
 ],
 "metadata": {
  "kernelspec": {
   "display_name": "Python 3 (ipykernel)",
   "language": "python",
   "name": "python3"
  },
  "language_info": {
   "codemirror_mode": {
    "name": "ipython",
    "version": 3
   },
   "file_extension": ".py",
   "mimetype": "text/x-python",
   "name": "python",
   "nbconvert_exporter": "python",
   "pygments_lexer": "ipython3",
   "version": "3.12.3"
  }
 },
 "nbformat": 4,
 "nbformat_minor": 5
}
